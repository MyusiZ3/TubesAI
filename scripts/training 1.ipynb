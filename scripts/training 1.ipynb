version https://git-lfs.github.com/spec/v1
oid sha256:26a707f397e441bd1409a335646488df728b1f46e371555be1067f85c949d3c0
size 80263
