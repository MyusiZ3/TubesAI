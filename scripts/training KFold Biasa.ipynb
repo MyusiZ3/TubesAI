version https://git-lfs.github.com/spec/v1
oid sha256:72ccea02725b2db312a27124875fed0c65bee7b7f204919f7213fe0ba95ae6f6
size 111624
