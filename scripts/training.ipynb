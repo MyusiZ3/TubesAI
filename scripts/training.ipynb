version https://git-lfs.github.com/spec/v1
oid sha256:a22866ea6f7ed79336fee4a2f7736515d9125cbce42a000fee2c7e9f9da4acf2
size 50440
