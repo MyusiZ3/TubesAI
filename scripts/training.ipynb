version https://git-lfs.github.com/spec/v1
oid sha256:6f6024232a170f08d940b854f56a8a3b565164a72d49813e6ae62de12a69a062
size 111663
