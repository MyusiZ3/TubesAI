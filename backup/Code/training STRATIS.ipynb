version https://git-lfs.github.com/spec/v1
oid sha256:c828bd53569f9f7acf3822a7ec86095612dea15a3bd429a49fcc69d6755d8d90
size 69531
